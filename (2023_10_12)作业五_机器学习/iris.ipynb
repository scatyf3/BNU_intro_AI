{
 "cells": [
  {
   "cell_type": "markdown",
   "metadata": {},
   "source": [
    "# **任务描述：**\n",
    "\n",
    "构建一个模型，根据鸢尾花的花萼和花瓣大小将其分为三种不同的品种。\n",
    "\n",
    "![](https://ai-studio-static-online.cdn.bcebos.com/dd74666475b549fcae99ac2aff67488f015cdd76569d4d208909983bcf40fe3c)"
   ]
  },
  {
   "cell_type": "markdown",
   "metadata": {},
   "source": [
    "\n",
    "# **数据集**\n",
    "总共包含150行数据\n",
    "\n",
    "每一行数据由 4 个特征值及一个目标值组成。\n",
    "\n",
    "4 个特征值分别为：萼片长度、萼片宽度、花瓣长度、花瓣宽度\n",
    "\n",
    "目标值为三种不同类别的鸢尾花，分别为：\tIris Setosa、Iris Versicolour、Iris Virginica\n",
    "\n",
    "![](https://ai-studio-static-online.cdn.bcebos.com/8bdc417331ef45d5a380d2769f3a8bcd7b361212b20d4e78b2a32ee9c7a7b1fa)"
   ]
  },
  {
   "cell_type": "markdown",
   "metadata": {},
   "source": [
    "\n",
    "**首先导入必要的包：**\n",
    "\n",
    "**numpy**：python第三方库，用于科学计算\n",
    "\n",
    "**matplotlib**:python第三方库，主要用于进行可视化\n",
    "\n",
    "**sklearn**:python的重要机器学习库，其中封装了大量的机器学习算法，如：分类、回归、降维以及聚类"
   ]
  },
  {
   "cell_type": "code",
   "execution_count": null,
   "metadata": {
    "tags": []
   },
   "outputs": [],
   "source": [
    "import numpy as np                \n",
    "from matplotlib import colors     \n",
    "from sklearn import svm            \n",
    "from sklearn.svm import SVC\n",
    "from sklearn import model_selection\n",
    "import matplotlib.pyplot as plt\n",
    "import matplotlib as mpl"
   ]
  },
  {
   "cell_type": "code",
   "execution_count": null,
   "metadata": {
    "jupyter": {
     "outputs_hidden": false
    }
   },
   "outputs": [],
   "source": [
    "#若提示缺少matplotlib等相关包，则可使用以下命令pip安装matplotlib等包\n",
    "!pip install matplotlib"
   ]
  },
  {
   "cell_type": "markdown",
   "metadata": {},
   "source": [
    "# **Step1.数据准备**\n",
    "\n",
    "(1)从指定路径下加载数据\n",
    "\n",
    "(2)对加载的数据进行数据分割，x_train,y_train,x_test,y_test分别表示训练集特征、训练集标签、测试集特征、测试集标签"
   ]
  },
  {
   "cell_type": "code",
   "execution_count": null,
   "metadata": {
    "jupyter": {
     "outputs_hidden": false
    }
   },
   "outputs": [],
   "source": [
    "#*************将字符串转为整型，便于数据加载***********************\n",
    "def iris_type(s):\n",
    "    it = {b'Iris-setosa':0, b'Iris-versicolor':1, b'Iris-virginica':2}\n",
    "    return it[s]"
   ]
  },
  {
   "cell_type": "code",
   "execution_count": null,
   "metadata": {
    "jupyter": {
     "outputs_hidden": false
    }
   },
   "outputs": [],
   "source": [
    "#加载数据\n",
    "data_path='/desktop/lny/download/iris.data'          #数据文件的路径\n",
    "data = np.loadtxt(data_path,                                #数据文件路径\n",
    "                  dtype=float,                              #数据类型\n",
    "                  delimiter=',',                            #数据分隔符\n",
    "                  converters={4:iris_type})                 #将第5列使用函数iris_type进行转换\n",
    "#print(data)                                                #data为二维数组，data.shape=(150, 5)\n",
    "#print(data.shape)\n",
    "#数据分割\n",
    "x, y = np.split(data,                                       #要切分的数组\n",
    "                (4,),                                       #沿轴切分的位置，第5列开始往后为y\n",
    "                axis=1)                                     #代表纵向分割，按列分割\n",
    "x = x[:, 0:2]                                               #在这里X中我们取前两列作为特征，可不断调整使用的特征数，以到达更好的精确度\n",
    "#print(x)\n",
    "x_train,x_test,y_train,y_test=model_selection.train_test_split(x,              #所要划分的样本特征集\n",
    "                                                               y,              #所要划分的样本结果\n",
    "                                                               random_state=1, #随机数种子\n",
    "                                                               test_size=0.3)  #测试样本占比"
   ]
  },
  {
   "cell_type": "markdown",
   "metadata": {},
   "source": [
    "# **Step2.模型搭建**\n",
    "\n",
    "C越大，相当于惩罚松弛变量，希望松弛变量接近0，即对误分类的惩罚增大，趋向于对训练集全分对的情况，这样对训练集测试时准确率很高，但泛化能力弱。\n",
    "C值小，对误分类的惩罚减小，允许容错，将他们当成噪声点，泛化能力较强。\n",
    "\n",
    "kernel='linear'时，为线性核\n",
    "\n",
    "decision_function_shape='ovr'时，为one v rest，即一个类别与其他类别进行划分，\n",
    "\n",
    "decision_function_shape='ovo'时，为one v one，即将类别两两之间进行划分，用二分类的方法模拟多分类的结果。"
   ]
  },
  {
   "cell_type": "code",
   "execution_count": null,
   "metadata": {
    "jupyter": {
     "outputs_hidden": false
    }
   },
   "outputs": [],
   "source": [
    "#**********************SVM分类器构建*************************\n",
    "def classifier():\n",
    "    #clf = svm.SVC(C=0.8,kernel='rbf', gamma=50,decision_function_shape='ovr')\n",
    "    clf = svm.SVC(C=0.5,                         #误差项惩罚系数,默认值是1\n",
    "                  kernel='linear',               #线性核 kenrel=\"rbf\":高斯核\n",
    "                  decision_function_shape='ovr') #决策函数\n",
    "    return clf"
   ]
  },
  {
   "cell_type": "code",
   "execution_count": null,
   "metadata": {
    "jupyter": {
     "outputs_hidden": false
    }
   },
   "outputs": [],
   "source": [
    "# 2.定义模型：SVM模型定义\n",
    "clf = classifier()"
   ]
  },
  {
   "cell_type": "markdown",
   "metadata": {},
   "source": [
    "# **Step3.模型训练**"
   ]
  },
  {
   "cell_type": "code",
   "execution_count": null,
   "metadata": {
    "jupyter": {
     "outputs_hidden": false
    }
   },
   "outputs": [],
   "source": [
    "#***********************训练模型*****************************\n",
    "def train(clf,x_train,y_train):\n",
    "    clf.fit(x_train,         #训练集特征向量\n",
    "            y_train.ravel()) #训练集目标值"
   ]
  },
  {
   "cell_type": "code",
   "execution_count": null,
   "metadata": {
    "jupyter": {
     "outputs_hidden": false
    }
   },
   "outputs": [],
   "source": [
    "# 3.训练SVM模型\n",
    "train(clf,x_train,y_train)"
   ]
  },
  {
   "cell_type": "markdown",
   "metadata": {},
   "source": [
    "# **Step4.模型评估**"
   ]
  },
  {
   "cell_type": "code",
   "execution_count": null,
   "metadata": {
    "jupyter": {
     "outputs_hidden": false
    }
   },
   "outputs": [],
   "source": [
    "#**************并判断a b是否相等，计算acc的均值*************\n",
    "def show_accuracy(a, b, tip):\n",
    "    acc = a.ravel() == b.ravel()\n",
    "    print('%s Accuracy:%.3f' %(tip, np.mean(acc)))"
   ]
  },
  {
   "cell_type": "code",
   "execution_count": null,
   "metadata": {
    "jupyter": {
     "outputs_hidden": false
    }
   },
   "outputs": [],
   "source": [
    "def print_accuracy(clf,x_train,y_train,x_test,y_test):\n",
    "    #分别打印训练集和测试集的准确率  score(x_train,y_train):表示输出x_train,y_train在模型上的准确率\n",
    "    print('trianing prediction:%.3f' %(clf.score(x_train, y_train)))\n",
    "    print('test data prediction:%.3f' %(clf.score(x_test, y_test)))\n",
    "    #原始结果与预测结果进行对比   predict()表示对x_train样本进行预测，返回样本类别\n",
    "    show_accuracy(clf.predict(x_train), y_train, 'traing data')\n",
    "    show_accuracy(clf.predict(x_test), y_test, 'testing data')\n",
    "    #计算决策函数的值，表示x到各分割平面的距离\n",
    "    print('decision_function:\\n', clf.decision_function(x_train))"
   ]
  },
  {
   "cell_type": "code",
   "execution_count": null,
   "metadata": {
    "jupyter": {
     "outputs_hidden": false
    }
   },
   "outputs": [],
   "source": [
    "# 4.模型评估\n",
    "print_accuracy(clf,x_train,y_train,x_test,y_test)"
   ]
  },
  {
   "cell_type": "markdown",
   "metadata": {},
   "source": [
    "# **Step5.模型使用**"
   ]
  },
  {
   "cell_type": "code",
   "execution_count": null,
   "metadata": {
    "jupyter": {
     "outputs_hidden": false
    }
   },
   "outputs": [],
   "source": [
    "def draw(clf, x):\n",
    "    iris_feature = 'sepal length', 'sepal width', 'petal lenght', 'petal width'\n",
    "    # 开始画图\n",
    "    x1_min, x1_max = x[:, 0].min(), x[:, 0].max()               #第0列的范围\n",
    "    x2_min, x2_max = x[:, 1].min(), x[:, 1].max()               #第1列的范围\n",
    "    x1, x2 = np.mgrid[x1_min:x1_max:200j, x2_min:x2_max:200j]   #生成网格采样点\n",
    "    grid_test = np.stack((x1.flat, x2.flat), axis=1)            #stack():沿着新的轴加入一系列数组\n",
    "    print('grid_test:\\n', grid_test)\n",
    "    # 输出样本到决策面的距离\n",
    "    z = clf.decision_function(grid_test)\n",
    "    print('the distance to decision plane:\\n', z)\n",
    "    \n",
    "    grid_hat = clf.predict(grid_test)                           # 预测分类值 得到【0,0.。。。2,2,2】\n",
    "    print('grid_hat:\\n', grid_hat)  \n",
    "    grid_hat = grid_hat.reshape(x1.shape)                       # reshape grid_hat和x1形状一致\n",
    "                                                                #若3*3矩阵e，则e.shape()为3*3,表示3行3列   \n",
    " \n",
    "    cm_light = mpl.colors.ListedColormap(['#A0FFA0', '#FFA0A0', '#A0A0FF'])\n",
    "    cm_dark = mpl.colors.ListedColormap(['g', 'r', 'b'])\n",
    " \n",
    "    plt.pcolormesh(x1, x2, grid_hat, cmap=cm_light)                                   # pcolormesh(x,y,z,cmap)这里参数代入\n",
    "                                                                                      # x1，x2，grid_hat，cmap=cm_light绘制的是背景。\n",
    "    plt.scatter(x[:, 0], x[:, 1], c=np.squeeze(y), edgecolor='k', s=50, cmap=cm_dark) # 样本点\n",
    "    plt.scatter(x_test[:, 0], x_test[:, 1], s=120, facecolor='none', zorder=10)       # 测试点\n",
    "    plt.xlabel(iris_feature[0], fontsize=20)\n",
    "    plt.ylabel(iris_feature[1], fontsize=20)\n",
    "    plt.xlim(x1_min, x1_max)\n",
    "    plt.ylim(x2_min, x2_max)\n",
    "    plt.title('svm in iris data classification', fontsize=30)\n",
    "    plt.grid()\n",
    "    plt.show()"
   ]
  },
  {
   "cell_type": "code",
   "execution_count": null,
   "metadata": {
    "jupyter": {
     "outputs_hidden": false
    }
   },
   "outputs": [],
   "source": [
    "# 5.模型使用\n",
    "draw(clf,x)"
   ]
  },
  {
   "cell_type": "code",
   "execution_count": null,
   "metadata": {
    "jupyter": {
     "outputs_hidden": false
    }
   },
   "outputs": [],
   "source": []
  }
 ],
 "metadata": {
  "kernelspec": {
   "display_name": "Python 3 (ipykernel)",
   "language": "python",
   "name": "python3"
  },
  "language_info": {
   "codemirror_mode": {
    "name": "ipython",
    "version": 3
   },
   "file_extension": ".py",
   "mimetype": "text/x-python",
   "name": "python",
   "nbconvert_exporter": "python",
   "pygments_lexer": "ipython3",
   "version": "3.7.16"
  }
 },
 "nbformat": 4,
 "nbformat_minor": 4
}
