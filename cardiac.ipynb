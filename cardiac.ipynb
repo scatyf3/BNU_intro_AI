{
 "cells": [
  {
   "cell_type": "code",
   "execution_count": 1,
   "metadata": {},
   "outputs": [],
   "source": [
    "import numpy as np                \n",
    "from matplotlib import colors     \n",
    "from sklearn import svm            \n",
    "from sklearn.svm import SVC\n",
    "from sklearn import model_selection\n",
    "import matplotlib.pyplot as plt\n",
    "import matplotlib as mpl\n",
    "\n",
    "import pandas as pd"
   ]
  },
  {
   "cell_type": "code",
   "execution_count": 2,
   "metadata": {},
   "outputs": [],
   "source": [
    "data=pd.read_csv(\"/Users/juanitahowe/Documents/GitHub/BNU_intro_AI/(2023_10_12)作业五_机器学习/Cardiac_parameters_training.csv\")\n",
    "data=data.to_numpy()"
   ]
  },
  {
   "cell_type": "code",
   "execution_count": 3,
   "metadata": {},
   "outputs": [],
   "source": [
    "x, y = np.split(data,                                       #要切分的数组\n",
    "                (20,),                                       #沿轴切分的位置，第5列开始往后为y\n",
    "                axis=1)                                     #代表纵向分割，按列分割                                          \n",
    "x_train,x_test,y_train,y_test=model_selection.train_test_split(x,              #所要划分的样本特征集\n",
    "                                                               y,              #所要划分的样本结果\n",
    "                                                               random_state=1, #随机数种子\n",
    "                                                               test_size=0.3)  #测试样本占比"
   ]
  },
  {
   "cell_type": "markdown",
   "metadata": {},
   "source": [
    "由于心脏数据集只有两类，所以选择决策函数ovo"
   ]
  },
  {
   "cell_type": "code",
   "execution_count": 10,
   "metadata": {},
   "outputs": [],
   "source": [
    "#**********************SVM分类器构建*************************\n",
    "def classifier():\n",
    "    #clf = svm.SVC(C=0.8,kernel='rbf', gamma=50,decision_function_shape='ovr')\n",
    "    clf = svm.SVC(C=0.8,                         #误差项惩罚系数,默认值是1\n",
    "                  kernel='linear',               #线性核 kenrel=\"rbf\":高斯核\n",
    "                  decision_function_shape='ovo') #决策函数\n",
    "    return clf\n",
    "# 2.定义模型：SVM模型定义\n",
    "clf = classifier()"
   ]
  },
  {
   "cell_type": "code",
   "execution_count": 11,
   "metadata": {},
   "outputs": [],
   "source": [
    "#***********************训练模型*****************************\n",
    "def train(clf,x_train,y_train):\n",
    "    clf.fit(x_train,         #训练集特征向量\n",
    "            y_train.ravel()) #训练集目标值\n",
    "# 3.训练SVM模型\n",
    "train(clf,x_train,y_train)"
   ]
  },
  {
   "cell_type": "code",
   "execution_count": 12,
   "metadata": {},
   "outputs": [],
   "source": [
    "#**************并判断a b是否相等，计算acc的均值*************\n",
    "def show_accuracy(a, b, tip):\n",
    "    acc = a.ravel() == b.ravel()\n",
    "    print('%s Accuracy:%.3f' %(tip, np.mean(acc)))"
   ]
  },
  {
   "cell_type": "code",
   "execution_count": 13,
   "metadata": {},
   "outputs": [],
   "source": [
    "def print_accuracy(clf,x_train,y_train,x_test,y_test):\n",
    "    #分别打印训练集和测试集的准确率  score(x_train,y_train):表示输出x_train,y_train在模型上的准确率\n",
    "    print('trianing prediction:%.3f' %(clf.score(x_train, y_train)))\n",
    "    print('test data prediction:%.3f' %(clf.score(x_test, y_test)))\n",
    "    #原始结果与预测结果进行对比   predict()表示对x_train样本进行预测，返回样本类别\n",
    "    show_accuracy(clf.predict(x_train), y_train, 'traing data')\n",
    "    show_accuracy(clf.predict(x_test), y_test, 'testing data')\n",
    "    #计算决策函数的值，表示x到各分割平面的距离\n",
    "    print('decision_function:\\n', clf.decision_function(x_train))"
   ]
  },
  {
   "cell_type": "code",
   "execution_count": 14,
   "metadata": {},
   "outputs": [
    {
     "name": "stdout",
     "output_type": "stream",
     "text": [
      "trianing prediction:0.807\n",
      "test data prediction:0.733\n",
      "traing data Accuracy:0.807\n",
      "testing data Accuracy:0.733\n",
      "decision_function:\n",
      " [ -7153.52362039 -13000.93333795 -14345.00223138  -7023.76257684\n",
      " -10387.25778177 -13790.53683069 -10387.06320551  -5256.61937311\n",
      "  -1717.60785272 -14889.25470331  25577.97082159  -3108.42863825\n",
      " -10573.61617639 -10152.38428857  -7817.62767389  71823.96975348\n",
      " -12921.06863001 -13124.49949625  14954.1098139  -16824.34721735\n",
      "  -6154.84163263   1992.43677161 -15575.20111444   1947.33257696\n",
      " -10791.23839166  -4998.99662378 -21859.69839838 -22662.89445856\n",
      "   3207.95564673  16625.78581641  37737.23267004  -4188.47954157\n",
      " -13470.17455652 -11986.15491846 -11963.78966882  -6814.91073969\n",
      " -13766.2894285  -13526.38207605   -967.07041528 -15190.05695703\n",
      " -13785.54164484 -10398.04106882 -18042.46192529 -26334.09594324\n",
      "  49854.99911139  27440.05674383  -3440.39261367   2975.0535166\n",
      "  -8348.49203851  12393.94955084 -23171.47214105  -3783.84918955\n",
      " -12738.81196954  -8467.7361181   59779.39529059 -12564.37093713\n",
      "  -8135.34783533  38411.73638556 -18726.04759576  11381.29685614\n",
      " -12566.08519342  -5780.38883569  -7035.28433969   1770.84573004\n",
      "   3985.78045294  10022.26177618  13217.26317236 -24791.09189203\n",
      " -15970.35920313 -10313.96739175 -11371.03513315 -11521.49512842\n",
      "  -5619.23620584  62845.48676703 -19614.27096918 -14617.33513239\n",
      " -14732.01369074 -12235.85987451   5789.76208136  -4537.98276403\n",
      " -12102.94858911  12578.61919806  -9474.74293497 -23492.6674917\n",
      "  34188.83465979 -38365.0536001  -12939.77296426 -16967.99901178\n",
      " -14958.06048181  -5801.54254511 -32307.65561273 -11986.7235296\n",
      " -12484.03738763 -20888.98926904 -10989.27753046  -6308.19618967\n",
      "  -1834.24808099 -24664.16076257  13303.95267126  -9458.21084955\n",
      "  -6937.69601801  -7510.7077749  -25819.69677332  -8253.62849023\n",
      " -24217.51824548 -21325.88126733 -19472.34527948 -13739.20125177\n",
      "  21649.73786566  -1745.87650659 -14502.11830499 -12220.05660608\n",
      " -18483.04703882 -10626.97353723  14460.80632422  -4845.7560766\n",
      "  46881.57442877  15537.23858282 -18091.94314935  -3296.90373256\n",
      "  -6526.90064981  37397.29864142  18024.52228949  11440.52034399\n",
      "  -2326.84049585 -14700.90968683  -7522.90073755   1395.58045599\n",
      "  26370.63196204  21300.75942633   1156.12669775 101035.68905279\n",
      " -31146.65369775  -6516.31504038 -17370.12897852  -8720.90469339\n",
      " -16388.80942514 -16012.23991754  -7035.94676569  -5501.5209997 ]\n"
     ]
    }
   ],
   "source": [
    "# 4.模型评估\n",
    "print_accuracy(clf,x_train,y_train,x_test,y_test)"
   ]
  }
 ],
 "metadata": {
  "kernelspec": {
   "display_name": "bnu_data_mining",
   "language": "python",
   "name": "bnu_data_mining"
  },
  "language_info": {
   "codemirror_mode": {
    "name": "ipython",
    "version": 3
   },
   "file_extension": ".py",
   "mimetype": "text/x-python",
   "name": "python",
   "nbconvert_exporter": "python",
   "pygments_lexer": "ipython3",
   "version": "3.11.4"
  }
 },
 "nbformat": 4,
 "nbformat_minor": 2
}
